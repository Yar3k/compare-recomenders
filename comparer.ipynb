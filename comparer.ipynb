{
  "nbformat": 4,
  "nbformat_minor": 0,
  "metadata": {
    "colab": {
      "provenance": [],
      "authorship_tag": "ABX9TyOsxyHMf3Xo5ILXXy3fLbBR"
    },
    "kernelspec": {
      "name": "python3",
      "display_name": "Python 3"
    },
    "language_info": {
      "name": "python"
    }
  },
  "cells": [
    {
      "cell_type": "code",
      "execution_count": 15,
      "metadata": {
        "id": "aV3gu8ly9BbP",
        "colab": {
          "base_uri": "https://localhost:8080/"
        },
        "outputId": "49bf8e3f-8204-4926-b566-59822e97e654"
      },
      "outputs": [
        {
          "output_type": "stream",
          "name": "stdout",
          "text": [
            "Drive already mounted at /content/drive; to attempt to forcibly remount, call drive.mount(\"/content/drive\", force_remount=True).\n"
          ]
        }
      ],
      "source": [
        "from google.colab import drive\n",
        "import glob\n",
        "drive.mount('/content/drive')"
      ]
    },
    {
      "cell_type": "code",
      "source": [
        "dataset_path = \"drive/MyDrive/ml-25m\""
      ],
      "metadata": {
        "id": "R-E7LId0BSQ0"
      },
      "execution_count": 16,
      "outputs": []
    },
    {
      "cell_type": "code",
      "source": [
        "files = glob.glob(dataset_path + \"/*\")\n",
        "for file in files:  \n",
        "  print(file)\n"
      ],
      "metadata": {
        "colab": {
          "base_uri": "https://localhost:8080/"
        },
        "id": "2Yqb0AdGCt_5",
        "outputId": "623151c6-0550-495c-9a52-60eecd218135"
      },
      "execution_count": 19,
      "outputs": [
        {
          "output_type": "stream",
          "name": "stdout",
          "text": [
            "drive/MyDrive/ml-25m/tags.csv\n",
            "drive/MyDrive/ml-25m/ratings.csv\n",
            "drive/MyDrive/ml-25m/movies.csv\n",
            "drive/MyDrive/ml-25m/genome-tags.csv\n",
            "drive/MyDrive/ml-25m/genome-scores.csv\n",
            "drive/MyDrive/ml-25m/links.csv\n",
            "drive/MyDrive/ml-25m/README.txt\n"
          ]
        }
      ]
    }
  ]
}